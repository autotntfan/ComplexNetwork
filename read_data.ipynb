{
 "cells": [
  {
   "cell_type": "code",
   "execution_count": 1,
   "id": "f8c567dc",
   "metadata": {},
   "outputs": [],
   "source": [
    "import scipy.io\n",
    "import numpy as np\n",
    "import os"
   ]
  },
  {
   "cell_type": "code",
   "execution_count": 6,
   "id": "974e2556",
   "metadata": {},
   "outputs": [
    {
     "name": "stdout",
     "output_type": "stream",
     "text": [
      "dict_keys(['__header__', '__version__', '__globals__', 'psf_rf', 'psf_bb', 'speckle_rf', 'speckle_bb', 'dx', 'dz', 'depth', 'f0', 'k', 'bw', 'delay_curve'])\n",
      "[[-2.08694239e-42+2.97539374e-43j -9.58180634e-43+3.43349939e-45j\n",
      "  -3.38765014e-43-1.18123117e-43j ...  3.07179069e-43-1.14873946e-43j\n",
      "   1.80179310e-43-6.73805947e-44j -2.46552726e-43+8.66079854e-44j]\n",
      " [-2.02935835e-42+3.00096944e-43j -9.27813149e-43-1.23175447e-44j\n",
      "  -3.25196217e-43-1.39098641e-43j ...  3.02376160e-43-1.22170851e-43j\n",
      "   1.77362110e-43-7.16606755e-44j -2.43920740e-43+9.08197608e-44j]\n",
      " [-1.79087069e-42+2.74302360e-43j -8.14868351e-43-2.76602171e-44j\n",
      "  -2.82849060e-43-1.47907658e-43j ...  2.70431116e-43-1.18230209e-43j\n",
      "   1.58624388e-43-6.93492482e-44j -2.19426726e-43+8.65869900e-44j]\n",
      " ...\n",
      " [ 0.00000000e+00+0.00000000e+00j  0.00000000e+00+0.00000000e+00j\n",
      "   0.00000000e+00+0.00000000e+00j ...  0.00000000e+00+0.00000000e+00j\n",
      "   0.00000000e+00+0.00000000e+00j  0.00000000e+00+0.00000000e+00j]\n",
      " [ 0.00000000e+00+0.00000000e+00j  0.00000000e+00+0.00000000e+00j\n",
      "   0.00000000e+00+0.00000000e+00j ...  0.00000000e+00+0.00000000e+00j\n",
      "   0.00000000e+00+0.00000000e+00j  0.00000000e+00+0.00000000e+00j]\n",
      " [ 0.00000000e+00+0.00000000e+00j  0.00000000e+00+0.00000000e+00j\n",
      "   0.00000000e+00+0.00000000e+00j ...  0.00000000e+00+0.00000000e+00j\n",
      "   0.00000000e+00+0.00000000e+00j  0.00000000e+00+0.00000000e+00j]]\n"
     ]
    }
   ],
   "source": [
    "def read_data(file):\n",
    "    data = scipy.io.loadmat(file)\n",
    "    print(data.keys())\n",
    "    psf_bb = data.get('psf_bb')\n",
    "    psf_rf = data.get('psf_rf')\n",
    "    speckle_bb = data.get('speckle_bb')\n",
    "    speckle_rf = data.get('speckle_rf')\n",
    "    return psf_bb, psf_rf, speckle_bb, speckle_rf\n",
    "path = 'simulation_straight'\n",
    "file_list = os.listdir(path)\n",
    "psf_bb = []\n",
    "psf_bb, _, _, _ = read_data(os.path.join(path,file_list[1]))\n",
    "print(psf_bb)\n"
   ]
  },
  {
   "cell_type": "code",
   "execution_count": null,
   "id": "88c28756",
   "metadata": {},
   "outputs": [],
   "source": []
  }
 ],
 "metadata": {
  "kernelspec": {
   "display_name": "Python (Complex)",
   "language": "python",
   "name": "myenv"
  },
  "language_info": {
   "codemirror_mode": {
    "name": "ipython",
    "version": 3
   },
   "file_extension": ".py",
   "mimetype": "text/x-python",
   "name": "python",
   "nbconvert_exporter": "python",
   "pygments_lexer": "ipython3",
   "version": "3.6.13"
  }
 },
 "nbformat": 4,
 "nbformat_minor": 5
}
